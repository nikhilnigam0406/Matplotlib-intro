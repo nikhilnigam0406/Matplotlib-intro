{
 "cells": [
  {
   "cell_type": "code",
   "execution_count": 1,
   "id": "2dd66fef",
   "metadata": {},
   "outputs": [],
   "source": [
    "import matplotlib.pyplot as plt\n",
    "import pandas as pd\n"
   ]
  },
  {
   "cell_type": "code",
   "execution_count": null,
   "id": "7d88bad2",
   "metadata": {},
   "outputs": [],
   "source": [
    "# w.w.w/kaggle.com\n",
    "\n",
    "#var_name = pd.read.csv(\" file path name \", nrows = value of rows)\n",
    "\n",
    "x =var_name[]\n",
    "y =var_name[]\n",
    "plt.scaller(x,y)\n"
   ]
  }
 ],
 "metadata": {
  "kernelspec": {
   "display_name": "Python 3 (ipykernel)",
   "language": "python",
   "name": "python3"
  },
  "language_info": {
   "codemirror_mode": {
    "name": "ipython",
    "version": 3
   },
   "file_extension": ".py",
   "mimetype": "text/x-python",
   "name": "python",
   "nbconvert_exporter": "python",
   "pygments_lexer": "ipython3",
   "version": "3.11.4"
  }
 },
 "nbformat": 4,
 "nbformat_minor": 5
}
