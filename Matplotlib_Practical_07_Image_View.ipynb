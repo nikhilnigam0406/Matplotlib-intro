{
 "cells": [
  {
   "cell_type": "code",
   "execution_count": 1,
   "id": "5957286a",
   "metadata": {},
   "outputs": [],
   "source": [
    "import matplotlib.pyplot as plt\n",
    "import pandas as pd\n",
    "import matplotlib.image as mpimg"
   ]
  },
  {
   "cell_type": "code",
   "execution_count": 4,
   "id": "cc5258d3",
   "metadata": {},
   "outputs": [],
   "source": [
    "# Methods\n",
    "# store = mpimg.imread()\n",
    "# image store 3d array \n",
    "# type array\n",
    "# shape (R , G , B dimenstion)\n",
    "# plt.imgshow(img,cmap=\"--\")\n",
    "# plt.colorbar()\n",
    "# plt.savefig()\n",
    "# plt.figure(figsize=())"
   ]
  },
  {
   "cell_type": "code",
   "execution_count": null,
   "id": "0b0f017e",
   "metadata": {},
   "outputs": [],
   "source": [
    "save_image_addr_name = []\n",
    "for i in range(len(cmap_list))\n",
    "    cmap_str = cmap_list[i]\n",
    "    save_image_addr_name.append(\" \"+ cmap_str + \".png\")\n",
    "    print(save_image_addr_name[i])\n",
    "    plt.axis(\"off\")\n",
    "    plt.savefig(save_image_addr_name[i], orenatation='', facecolor='k')\n",
    "    \n",
    "    "
   ]
  }
 ],
 "metadata": {
  "kernelspec": {
   "display_name": "Python 3 (ipykernel)",
   "language": "python",
   "name": "python3"
  },
  "language_info": {
   "codemirror_mode": {
    "name": "ipython",
    "version": 3
   },
   "file_extension": ".py",
   "mimetype": "text/x-python",
   "name": "python",
   "nbconvert_exporter": "python",
   "pygments_lexer": "ipython3",
   "version": "3.11.4"
  }
 },
 "nbformat": 4,
 "nbformat_minor": 5
}
